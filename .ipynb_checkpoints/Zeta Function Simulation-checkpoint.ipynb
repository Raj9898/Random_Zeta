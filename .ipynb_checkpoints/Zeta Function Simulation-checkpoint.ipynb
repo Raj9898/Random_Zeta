{
 "cells": [
  {
   "cell_type": "code",
   "execution_count": 6,
   "metadata": {},
   "outputs": [],
   "source": [
    "import numpy as np\n",
    "import cmath\n",
    "from time import time"
   ]
  },
  {
   "cell_type": "code",
   "execution_count": 40,
   "metadata": {},
   "outputs": [],
   "source": [
    "%load_ext Cython"
   ]
  },
  {
   "cell_type": "code",
   "execution_count": null,
   "metadata": {},
   "outputs": [],
   "source": []
  },
  {
   "cell_type": "markdown",
   "metadata": {},
   "source": [
    "**The Riemann Zeta function is defined as:**\n",
    "$$\\zeta(s):=\\sum_{n=1}^\\infty{n^{-s}} \\ \\ \\ \\ : \\ (s=\\sigma + it) \\ \\ ; \\ (\\sigma > 1)$$"
   ]
  },
  {
   "cell_type": "code",
   "execution_count": 70,
   "metadata": {},
   "outputs": [],
   "source": [
    "# naive implementation of the Riemann Zeta Function with the restricted sigma condition at a point\n",
    "def zetaN(x: complex) -> complex: \n",
    "    assert x.real > 1, \"Real component of the complex component must be strictly greater than 1\"\n",
    "    zetaSum = 0.0\n",
    "    \n",
    "    # computes the sequential sum of values defined above\n",
    "    for i in range(1, int(1e7)):\n",
    "        zetaSum += 1/(i**x)\n",
    "        \n",
    "    return zetaSum"
   ]
  },
  {
   "cell_type": "code",
   "execution_count": 75,
   "metadata": {},
   "outputs": [
    {
     "name": "stdout",
     "output_type": "stream",
     "text": [
      "Our sample complex point is (1.5+14.1347j)\n"
     ]
    }
   ],
   "source": [
    "sample_point = complex(real=1.5, imag=14.1347)\n",
    "print(\"Our sample complex point is\", sample_point)"
   ]
  },
  {
   "cell_type": "code",
   "execution_count": 76,
   "metadata": {},
   "outputs": [
    {
     "name": "stdout",
     "output_type": "stream",
     "text": [
      "Zeta expression is of the form (0.5421370050817309+0.049863938609117656j) \n",
      "Run time taken to compute is 9.492647886276245\n"
     ]
    }
   ],
   "source": [
    "start = time()\n",
    "print(\"Zeta expression is of the form {} \\nRun time taken to compute is {}\".format(zetaN(sample_point), time() - start))"
   ]
  },
  {
   "cell_type": "markdown",
   "metadata": {},
   "source": [
    "**Computations of the Riemann Zeta function on the critical line refer to computations of the form $\\zeta(\\frac{1}{2} + it)$, where we move vertically along the complex plane with $t$, while being fixed at the point $\\frac{1}{2}$ on the real number line. An image is provided below to highlight this:** \n",
    "\n",
    "<img src=\"zeta_critical_line.jpg\" width=\"600\" height=\"600\">\n",
    "\n",
    "To solve for values along this critical line we implement more sophisticated algortihms to increase runtime efficiency and account for values $\\sigma < 1$"
   ]
  },
  {
   "cell_type": "code",
   "execution_count": null,
   "metadata": {},
   "outputs": [],
   "source": []
  },
  {
   "cell_type": "code",
   "execution_count": null,
   "metadata": {},
   "outputs": [],
   "source": []
  },
  {
   "cell_type": "code",
   "execution_count": null,
   "metadata": {},
   "outputs": [],
   "source": []
  },
  {
   "cell_type": "code",
   "execution_count": null,
   "metadata": {},
   "outputs": [],
   "source": []
  },
  {
   "cell_type": "code",
   "execution_count": null,
   "metadata": {},
   "outputs": [],
   "source": []
  }
 ],
 "metadata": {
  "kernelspec": {
   "display_name": "Python 3",
   "language": "python",
   "name": "python3"
  },
  "language_info": {
   "codemirror_mode": {
    "name": "ipython",
    "version": 3
   },
   "file_extension": ".py",
   "mimetype": "text/x-python",
   "name": "python",
   "nbconvert_exporter": "python",
   "pygments_lexer": "ipython3",
   "version": "3.7.0"
  }
 },
 "nbformat": 4,
 "nbformat_minor": 2
}
