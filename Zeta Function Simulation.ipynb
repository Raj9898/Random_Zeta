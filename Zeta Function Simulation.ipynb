{
 "cells": [
  {
   "cell_type": "code",
   "execution_count": 1,
   "metadata": {},
   "outputs": [],
   "source": [
    "from mpmath import zeta\n",
    "from scipy.stats import gumbel_r\n",
    "import numpy as np \n",
    "import sympy\n",
    "import matplotlib.pyplot as plt \n",
    "import pyprimes\n",
    "import seaborn as sns"
   ]
  },
  {
   "cell_type": "code",
   "execution_count": 2,
   "metadata": {},
   "outputs": [],
   "source": [
    "# Developed Libraries\n",
    "from Zeta_Algorithms import zetaStochastic, zetaNormRange"
   ]
  },
  {
   "cell_type": "markdown",
   "metadata": {},
   "source": [
    "## <h1><center> NUMERICAL STUDY OF THE LARGE VALUES OF THE RIEMANN ZETA FUNCTION SUPERVISED BY PROF. L.P. ARGUIN </center></h1>"
   ]
  },
  {
   "cell_type": "markdown",
   "metadata": {},
   "source": [
    "**Objectives The goal is to develop numerical methods to verify and extend conjectures about the large values of the Riemann zeta function in short intervals. The [Riemann Zeta](https://en.wikipedia.org/wiki/Riemann_zeta_function) function is defined as:**"
   ]
  },
  {
   "cell_type": "markdown",
   "metadata": {},
   "source": [
    "$$\\zeta(s):=\\sum_{n=1}^\\infty{n^{-s}} \\ \\ \\ \\ : \\ (s=\\sigma + it) \\ \\ ; \\ (\\sigma > 1)$$\n",
    "\n",
    "-------------------------------------------------------------------------------------------------------------------------------\n",
    "-------------------------------------------------------------------------------------------------------------------------------"
   ]
  },
  {
   "cell_type": "code",
   "execution_count": 3,
   "metadata": {},
   "outputs": [
    {
     "name": "stdout",
     "output_type": "stream",
     "text": [
      "File found, returning prime list...\n",
      "Primes returned up to 99999989\n"
     ]
    }
   ],
   "source": [
    "try:\n",
    "    # ideally prime numbers should be calculated externally or stored in a txt file\n",
    "    print('File found, returning prime list...')\n",
    "    text_file = open(\"prime.txt\", \"r\")\n",
    "    prime_num = np.array(list(map(lambda x: int(x), text_file.read().split(',')[:-1])))\n",
    "    print(\"Primes returned up to\", prime_num[-1])\n",
    "    \n",
    "except FileNotFoundError:\n",
    "    print('File not found, generating prime list...')\n",
    "    \n",
    "    # Stores prime list up to 10^8 (ideally should hold 10^50)\n",
    "    prime_num = np.array(list(pyprimes.primes_below(1e8)))\n",
    "    \n",
    "    # store the prime number list in a text file (temporary)\n",
    "    f = open(\"prime.txt\", \"w\")\n",
    "    for i in prime_num:\n",
    "        f.write(\"{},\".format(str(i)))\n",
    "    f.close()\n",
    "    \n",
    "    text_file = open(\"prime.txt\", \"r\")\n",
    "    prime_num = np.array(list(map(lambda x: int(x), text_file.read().split(',')[:-1])))\n",
    "    print(\"Primes returned up to\", prime_num[-1])"
   ]
  },
  {
   "cell_type": "markdown",
   "metadata": {},
   "source": [
    "### A model for large values of $log(\\zeta)$"
   ]
  },
  {
   "cell_type": "markdown",
   "metadata": {},
   "source": [
    "Our Zeta Stochastic Function is defined $(\\ X_T(h),\\  h\\in I)$, with $I\\in [-1,1]$\n",
    "$$X_T(h) = \\sum_{p\\leq T}\\cdot \\frac{1}{\\sqrt{p}}Re(p^{ih}e^{i\\theta_p})$$\n",
    "Where $p$ refers to the primes, $Re$ is concerned with the 'real' part of the expression $p^{ih}e^{i\\theta_p}$ and $\\theta_p \\sim U(0,2\\pi) \\ IID$ and indexed by primes\n",
    "\n",
    "Through Euler's method we have the following realization\n",
    "$$X_T(h) = \\sum_{p\\leq T}\\cdot \\frac{1}{\\sqrt{p}}cos(\\theta_p - hlog(p))$$"
   ]
  },
  {
   "cell_type": "code",
   "execution_count": 4,
   "metadata": {},
   "outputs": [],
   "source": [
    "# value of T placed at 10^7 (ideally taken should be taken 10^15, 10^25, etc)\n",
    "T_val = int(1e6)\n",
    "\n",
    "# create range interval of h from -1 to 1 (points at every 1/log(T))\n",
    "x=np.arange(-1,1,1/np.round(np.log(T_val)))"
   ]
  },
  {
   "cell_type": "code",
   "execution_count": 5,
   "metadata": {},
   "outputs": [
    {
     "data": {
      "text/plain": [
       "array([-1.00000000e+00, -9.28571429e-01, -8.57142857e-01, -7.85714286e-01,\n",
       "       -7.14285714e-01, -6.42857143e-01, -5.71428571e-01, -5.00000000e-01,\n",
       "       -4.28571429e-01, -3.57142857e-01, -2.85714286e-01, -2.14285714e-01,\n",
       "       -1.42857143e-01, -7.14285714e-02, -4.44089210e-16,  7.14285714e-02,\n",
       "        1.42857143e-01,  2.14285714e-01,  2.85714286e-01,  3.57142857e-01,\n",
       "        4.28571429e-01,  5.00000000e-01,  5.71428571e-01,  6.42857143e-01,\n",
       "        7.14285714e-01,  7.85714286e-01,  8.57142857e-01,  9.28571429e-01])"
      ]
     },
     "execution_count": 5,
     "metadata": {},
     "output_type": "execute_result"
    }
   ],
   "source": [
    "x"
   ]
  },
  {
   "cell_type": "code",
   "execution_count": null,
   "metadata": {},
   "outputs": [],
   "source": []
  },
  {
   "cell_type": "code",
   "execution_count": 10,
   "metadata": {},
   "outputs": [
    {
     "data": {
      "text/plain": [
       "(None, <pyximport.pyximport.PyxImporter at 0x1527e327940>)"
      ]
     },
     "execution_count": 10,
     "metadata": {},
     "output_type": "execute_result"
    }
   ],
   "source": [
    "import pyximport; pyximport.install()"
   ]
  },
  {
   "cell_type": "code",
   "execution_count": null,
   "metadata": {},
   "outputs": [],
   "source": [
    "import Zeta_Algorithms "
   ]
  },
  {
   "cell_type": "code",
   "execution_count": 6,
   "metadata": {},
   "outputs": [],
   "source": [
    "from time import time"
   ]
  },
  {
   "cell_type": "code",
   "execution_count": 7,
   "metadata": {},
   "outputs": [
    {
     "name": "stdout",
     "output_type": "stream",
     "text": [
      "30.307608366012573\n"
     ]
    }
   ],
   "source": [
    "t1 = time()\n",
    "[zetaStochastic(h=i, T=T_val, prime_list=prime_num) for i in x]\n",
    "print(time()-t1)"
   ]
  },
  {
   "cell_type": "code",
   "execution_count": 8,
   "metadata": {},
   "outputs": [],
   "source": [
    "primes = prime_num[prime_num <= T_val]"
   ]
  },
  {
   "cell_type": "code",
   "execution_count": 9,
   "metadata": {},
   "outputs": [
    {
     "name": "stdout",
     "output_type": "stream",
     "text": [
      "29.094769954681396\n"
     ]
    }
   ],
   "source": [
    "t2 = time()\n",
    "[sum([1/np.sqrt(p) * np.cos(np.random.uniform(0, 2*np.pi) - h*np.log(p)) for p in primes]) for h in x]\n",
    "print(time() - t2)"
   ]
  },
  {
   "cell_type": "code",
   "execution_count": null,
   "metadata": {},
   "outputs": [],
   "source": []
  },
  {
   "cell_type": "code",
   "execution_count": null,
   "metadata": {},
   "outputs": [],
   "source": []
  },
  {
   "cell_type": "code",
   "execution_count": null,
   "metadata": {},
   "outputs": [],
   "source": []
  },
  {
   "cell_type": "code",
   "execution_count": null,
   "metadata": {},
   "outputs": [],
   "source": []
  },
  {
   "cell_type": "code",
   "execution_count": null,
   "metadata": {},
   "outputs": [],
   "source": []
  },
  {
   "cell_type": "code",
   "execution_count": null,
   "metadata": {},
   "outputs": [],
   "source": [
    "# create stochastic zeta range over h interval  \n",
    "sims = 50\n",
    "y = np.array([[zetaStochastic(h=i, T=T_val, prime_list=prime_num) for i in x] for _ in range(sims)]).reshape(sims, x.size)"
   ]
  },
  {
   "cell_type": "code",
   "execution_count": null,
   "metadata": {
    "scrolled": true
   },
   "outputs": [],
   "source": [
    "y"
   ]
  },
  {
   "cell_type": "code",
   "execution_count": null,
   "metadata": {},
   "outputs": [],
   "source": [
    "# rolling maximum of norm function\n",
    "# maximum = [y[:, :i+1].max() for i in range(y.shape[1])]\n",
    "\n",
    "# rolling minimum of norm function\n",
    "# minimum = [y[:, :i+1].min() for i in range(y.shape[1])]"
   ]
  },
  {
   "cell_type": "code",
   "execution_count": null,
   "metadata": {},
   "outputs": [],
   "source": [
    "plt.figure(figsize=(20,10))  \n",
    "plt.title(\"{} Simulations of the Stochastic Zeta Function\".format(sims), loc='left', size=14)\n",
    "for i in y:\n",
    "    plt.plot(x, i)\n",
    "plt.plot(x, np.average(y, axis=0), lw=4, color='black', label='Rolling Average', ls='--')\n",
    "# plt.plot(x, maximum, lw=2, color='red', ls='--', label='Rolling Maximum')\n",
    "# plt.plot(x, minimum, lw=2, color='red', ls='--', label='Rolling Minimum')\n",
    "\n",
    "plt.ylabel('Log Zeta Stochastic Value')\n",
    "plt.xlabel('$h$ value')\n",
    "plt.legend()\n",
    "plt.show()"
   ]
  },
  {
   "cell_type": "markdown",
   "metadata": {},
   "source": [
    "**Conjecture**\n",
    "\n",
    "We assert that the maxium of the stochastic function should be defined as follows:\n",
    "$$max_{|h|<1}X_t(h)\\approx log(log(T)) - \\frac{3}{4}log(log(log(T)))$$\n",
    "Abbreviating the log expressions, we underscore each log with the number of succesive logs taken of the value $T$ below\n",
    "$$max_{|h|<1}X_t(h)\\approx log_2(T)) - \\frac{3}{4}log_3(T)))$$"
   ]
  },
  {
   "cell_type": "code",
   "execution_count": null,
   "metadata": {},
   "outputs": [],
   "source": [
    "cong_max = np.log(np.log(T_val)) - 0.75*np.log(np.log(np.log(T_val)))\n",
    "print(\"Our simulated maximum was    ->\", np.average(y.max(axis=1)))\n",
    "print(\"Conjecture maximum should be ->\", cong_max)"
   ]
  },
  {
   "cell_type": "markdown",
   "metadata": {},
   "source": [
    "**Function Variation**\n",
    "\n",
    "To measure the degree of variation expected with the simulation for large values of Zeta, we need to consider extreme statistics for determining the extent of our model's variation. We begin by recentering our stochastic model as follows: \n",
    "$$\\Theta = max_{|h|<1}X_t(h) - (log_2(T) - \\frac{3}{4}log_3(T))$$\n",
    "We say that our $\\Theta$ follows a [Gumbel distribution](https://en.wikipedia.org/wiki/Gumbel_distribution), defined below\n",
    "$$P(\\Theta < x)=exp(-ce^{-2x}) \\, \\ \\ \\  \\mu = 0 \\ , \\ \\ \\beta = \\frac{1}{2}$$ \n",
    "Our variance measure is then:\n",
    "$$Var(\\Theta)=\\frac{\\pi^2}{6}\\beta^2=\\frac{\\pi^2}{24}$$\n",
    "\n",
    "Hence, in our case our expression for the maximum of our stochastic process introduces and error term: \n",
    "$$log_2(T) - \\frac{3}{4}log_3(T) + (Gumbel)$$"
   ]
  },
  {
   "cell_type": "code",
   "execution_count": null,
   "metadata": {},
   "outputs": [],
   "source": [
    "plt.figure(figsize=(20, 8))\n",
    "plt.hist(y.max(axis=1), bins=50, alpha=0.5, color='orange', density=True, \n",
    "         label=\"Stochastic Zeta Maximums\")\n",
    "plt.hist(cong_max + gumbel_r.rvs(loc=0, scale=0.5, size=1000), bins=50, alpha=0.3, color='blue', \n",
    "         label=\"Gumbel Distribution $\\Theta \\sim (0,1/2)$\", density=True)\n",
    "plt.hist(cong_max + gumbel_r.rvs(loc=0, scale=(np.pi**2)/24, size=1000), bins=50, alpha=0.3, color='red', \n",
    "         label=\"Gumbel Distribution $\\Theta \\sim (0,(np.pi**2)/24)$\", density=True)\n",
    "plt.legend()\n",
    "plt.show()"
   ]
  },
  {
   "cell_type": "markdown",
   "metadata": {},
   "source": [
    "Analyzing the "
   ]
  },
  {
   "cell_type": "code",
   "execution_count": null,
   "metadata": {},
   "outputs": [],
   "source": [
    "# examine the decay of difference from project to actual as T grows "
   ]
  },
  {
   "cell_type": "code",
   "execution_count": null,
   "metadata": {},
   "outputs": [],
   "source": []
  },
  {
   "cell_type": "code",
   "execution_count": null,
   "metadata": {},
   "outputs": [],
   "source": []
  },
  {
   "cell_type": "markdown",
   "metadata": {},
   "source": [
    "### Fyodorov-Hiary-Keating Conjecture"
   ]
  },
  {
   "cell_type": "markdown",
   "metadata": {},
   "source": [
    "**Conjecture (Fyodorov-Hiary-Keating '12)'**\n",
    "\n",
    "if $\\tau\\sim Unif(T,2T)$, then as $T \\rightarrow \\infty$\n",
    "$$max_{|h|<1}|\\zeta(1/2 + i(\\tau +h))| = \\frac{log(T)}{log(log(T))^{3/4}}$$\n",
    "Using the same log convention discussed earlier we have \n",
    "$$max_{|h|<1}|\\zeta(1/2 + i(\\tau +h))| = \\frac{log(T)}{log_2(T))^{3/4}}$$"
   ]
  },
  {
   "cell_type": "code",
   "execution_count": null,
   "metadata": {},
   "outputs": [],
   "source": [
    "N = 0   # starting value of T range \n",
    "deltaN = 500    # length of T range"
   ]
  },
  {
   "cell_type": "code",
   "execution_count": null,
   "metadata": {},
   "outputs": [],
   "source": [
    "# creating the interval range t\n",
    "t_range=np.arange(N, N+deltaN)"
   ]
  },
  {
   "cell_type": "code",
   "execution_count": null,
   "metadata": {},
   "outputs": [],
   "source": [
    "# storage for the normal zeta \n",
    "norm_zeta_value = zetaNormRange(N, deltaN)\n",
    "\n",
    "# rolling average of norm function \n",
    "average = np.cumsum(norm_zeta_value)/(t_range+1)\n",
    "\n",
    "# rolling maximum of norm function\n",
    "maximum = [norm_zeta_value[:i+1].max() for i in range(norm_zeta_value.size)]"
   ]
  },
  {
   "cell_type": "code",
   "execution_count": null,
   "metadata": {},
   "outputs": [],
   "source": [
    "plt.figure(figsize=(20,10))  \n",
    "plt.title('$|\\zeta(1/2 + it)| \\ for \\ t\\in [{},{}]$'.format(N, N+deltaN), size=16)\n",
    "plt.plot(t_range, norm_zeta_value, label='Normalized Zeta')\n",
    "plt.plot(t_range, average, label='Normalized Average', lw=3, color='black')\n",
    "plt.plot(t_range, maximum, label='Normalized Maximum', lw=2, color='green')\n",
    "plt.xlabel('T range')\n",
    "plt.legend()\n",
    "plt.show()"
   ]
  },
  {
   "cell_type": "code",
   "execution_count": null,
   "metadata": {},
   "outputs": [],
   "source": []
  },
  {
   "cell_type": "code",
   "execution_count": null,
   "metadata": {},
   "outputs": [],
   "source": []
  },
  {
   "cell_type": "code",
   "execution_count": null,
   "metadata": {},
   "outputs": [],
   "source": []
  }
 ],
 "metadata": {
  "kernelspec": {
   "display_name": "Python 3",
   "language": "python",
   "name": "python3"
  },
  "language_info": {
   "codemirror_mode": {
    "name": "ipython",
    "version": 3
   },
   "file_extension": ".py",
   "mimetype": "text/x-python",
   "name": "python",
   "nbconvert_exporter": "python",
   "pygments_lexer": "ipython3",
   "version": "3.7.0"
  }
 },
 "nbformat": 4,
 "nbformat_minor": 2
}
