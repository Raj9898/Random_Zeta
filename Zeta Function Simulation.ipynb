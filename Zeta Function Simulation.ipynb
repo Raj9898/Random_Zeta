{
 "cells": [
  {
   "cell_type": "code",
   "execution_count": 1,
   "metadata": {},
   "outputs": [],
   "source": [
    "from mpmath import zeta\n",
    "import numpy as np \n",
    "import sympy\n",
    "import matplotlib.pyplot as plt \n",
    "import pyprimes\n",
    "import seaborn as sns"
   ]
  },
  {
   "cell_type": "code",
   "execution_count": 2,
   "metadata": {},
   "outputs": [],
   "source": [
    "# Developed Libraries\n",
    "from Zeta_Algorithms import zetaStochastic, zetaNormRange"
   ]
  },
  {
   "cell_type": "code",
   "execution_count": 3,
   "metadata": {},
   "outputs": [],
   "source": [
    "# <img src=\"zeta_critical_line.jpg\" width=\"600\" height=\"600\">"
   ]
  },
  {
   "cell_type": "markdown",
   "metadata": {},
   "source": [
    "**The Riemann Zeta function is defined as:**\n",
    "$$\\zeta(s):=\\sum_{n=1}^\\infty{n^{-s}} \\ \\ \\ \\ : \\ (s=\\sigma + it) \\ \\ ; \\ (\\sigma > 1)$$"
   ]
  },
  {
   "cell_type": "markdown",
   "metadata": {},
   "source": [
    "Our Zeta Stochastic Function is defined $(\\ X_T(h),\\  h\\in I)$, this follows as \n",
    "$$X_T(h) = \\sum_{p\\leq T}\\cdot \\frac{1}{\\sqrt{p}}Re(p^{ih}e^{i\\theta_p})$$\n",
    "Where $p$ refers to the primes, $Re$ is concerned witht the 'real' part of the expression $p^{ih}e^{i\\theta_p}$ and $\\theta_p \\sim U(0,2\\pi) \\ IID$\n",
    "\n",
    "Through... we have the following\n",
    "$$X_T(h) = \\sum_{p\\leq T}\\cdot \\frac{1}{\\sqrt{p}}cos(\\theta_p - hlog(p))$$"
   ]
  },
  {
   "cell_type": "code",
   "execution_count": 6,
   "metadata": {},
   "outputs": [],
   "source": [
    "# Stores prime list up to 10^8\n",
    "# This minimizes runtime by limiting the creation of the prime list \n",
    "prime_num = np.array(list(pyprimes.primes_below(1e8)))"
   ]
  },
  {
   "cell_type": "code",
   "execution_count": null,
   "metadata": {},
   "outputs": [],
   "source": [
    "prime_num"
   ]
  },
  {
   "cell_type": "code",
   "execution_count": null,
   "metadata": {},
   "outputs": [],
   "source": [
    "T_val = int(1e6)\n",
    "\n",
    "# create range interval of h from -1 to 1\n",
    "x=np.arange(-1,1,1/100)\n",
    "\n",
    "# create stochastic zeta range over h interval  \n",
    "sims = 10\n",
    "y = np.array([[zetaStochastic(h=i, T=T_val, prime_list=prime_num) for i in x] for _ in range(sims)]).reshape(sims, 200)"
   ]
  },
  {
   "cell_type": "code",
   "execution_count": null,
   "metadata": {},
   "outputs": [],
   "source": [
    "y"
   ]
  },
  {
   "cell_type": "code",
   "execution_count": null,
   "metadata": {},
   "outputs": [],
   "source": [
    "# rolling maximum of norm function\n",
    "maximum = [y[:, :i+1].max() for i in range(y.shape[1])]\n",
    "\n",
    "# rolling minimum of norm function\n",
    "minimum = [y[:, :i+1].min() for i in range(y.shape[1])]"
   ]
  },
  {
   "cell_type": "code",
   "execution_count": null,
   "metadata": {},
   "outputs": [],
   "source": [
    "plt.figure(figsize=(20,10))  \n",
    "for i in y:\n",
    "    plt.plot(x, i)\n",
    "plt.plot(x, np.average(y, axis=0), lw=3, color='black', label='Rolling Average')\n",
    "plt.plot(x, maximum, lw=2, color='red', ls='--', label='Rolling Maximum')\n",
    "plt.plot(x, minimum, lw=2, color='red', ls='--', label='Rolling Minimum')\n",
    "\n",
    "\n",
    "plt.ylabel('Log Zeta Stochastic Value')\n",
    "plt.xlabel('$h$ value')\n",
    "plt.legend()\n",
    "plt.show()"
   ]
  },
  {
   "cell_type": "code",
   "execution_count": null,
   "metadata": {},
   "outputs": [],
   "source": []
  },
  {
   "cell_type": "markdown",
   "metadata": {},
   "source": [
    "**Computations of the Riemann Zeta function on the critical line refer to computations of the form $\\zeta(\\frac{1}{2} + it)$, where we move vertically along the complex plane with $t$, while being fixed at the point $\\frac{1}{2}$ on the real number line. We will be using an existing implementation of the Zeta function in Python, defined in the documentation provided, http://mpmath.org/doc/current/functions/zeta.html?highlight=zeta#mpmath.zeta** \n",
    "\n"
   ]
  },
  {
   "cell_type": "code",
   "execution_count": null,
   "metadata": {},
   "outputs": [],
   "source": [
    "N = 0   # starting value of T range \n",
    "deltaN = 500    # length of T range"
   ]
  },
  {
   "cell_type": "code",
   "execution_count": null,
   "metadata": {},
   "outputs": [],
   "source": [
    "# creating the interval range t\n",
    "t_range=np.arange(N, N+deltaN)"
   ]
  },
  {
   "cell_type": "code",
   "execution_count": null,
   "metadata": {},
   "outputs": [],
   "source": [
    "# storage for the normal zeta \n",
    "norm_zeta_value = zetaNormRange(N, deltaN)\n",
    "\n",
    "# rolling average of norm function \n",
    "average = np.cumsum(norm_zeta_value)/(t_range+1)\n",
    "\n",
    "# rolling maximum of norm function\n",
    "maximum = [norm_zeta_value[:i+1].max() for i in range(norm_zeta_value.size)]"
   ]
  },
  {
   "cell_type": "code",
   "execution_count": null,
   "metadata": {},
   "outputs": [],
   "source": [
    "plt.figure(figsize=(20,10))  \n",
    "plt.plot(t_range, norm_zeta_value, label='Normalized Zeta')\n",
    "plt.plot(t_range, average, label='Normalized Average', lw=3, color='black')\n",
    "plt.plot(t_range, maximum, label='Normalized Maximum', lw=2, color='green')\n",
    "plt.xlabel('T range')\n",
    "plt.legend()\n",
    "plt.show()"
   ]
  },
  {
   "cell_type": "code",
   "execution_count": null,
   "metadata": {},
   "outputs": [],
   "source": [
    "plt.figure(figsize=(20,8))\n",
    "# deprecation error is an issue with displot implementation within Seaborn\n",
    "sns.distplot(norm_zeta_value, bins=100, color='red')\n",
    "plt.show()"
   ]
  },
  {
   "cell_type": "code",
   "execution_count": null,
   "metadata": {},
   "outputs": [],
   "source": []
  },
  {
   "cell_type": "code",
   "execution_count": null,
   "metadata": {},
   "outputs": [],
   "source": []
  }
 ],
 "metadata": {
  "kernelspec": {
   "display_name": "Python 3",
   "language": "python",
   "name": "python3"
  },
  "language_info": {
   "codemirror_mode": {
    "name": "ipython",
    "version": 3
   },
   "file_extension": ".py",
   "mimetype": "text/x-python",
   "name": "python",
   "nbconvert_exporter": "python",
   "pygments_lexer": "ipython3",
   "version": "3.7.0"
  }
 },
 "nbformat": 4,
 "nbformat_minor": 2
}
